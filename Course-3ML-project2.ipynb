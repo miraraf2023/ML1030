{
 "cells": [
  {
   "cell_type": "code",
   "execution_count": 444,
   "id": "9d86fc44-25ff-4698-99a2-69201b1bd74d",
   "metadata": {},
   "outputs": [],
   "source": [
    "#import tensorflow as tf\n",
    "#from tensorflow.keras import datasets, layers, models\n",
    "import os\n",
    "import matplotlib.pyplot as plt\n",
    "import numpy as np\n",
    "import pandas as pd\n",
    "import re"
   ]
  },
  {
   "cell_type": "code",
   "execution_count": 514,
   "id": "d25ecf0d-08d2-46a3-bd4a-5a0a0d4b5065",
   "metadata": {},
   "outputs": [],
   "source": [
    "BASE_DIR = \"C:/Araf/Machine_Learning/Course-3/Images/project_images/images\"\n",
    "OUTPUT_BASE_DIR=\"C:/Araf/Machine_Learning/Course-3/Images/project_images/output\"\n",
    "OUTPUT_IMAGE_DIR_DISEASED=\"C:/Araf/Machine_Learning/Course-3/Images/project_images/output/subset/diseased/\"\n",
    "OUTPUT_IMAGE_DIR_HEALTHY=\"C:/Araf/Machine_Learning/Course-3/Images/project_images/output/subset/healthy/\"\n",
    "fraction_val1=0.3\n",
    "fraction_val2=0.3\n",
    "#\"C:/Araf/Machine_Learning/Course-3/Images/project_images/output/Leaf_subset1.csv\"\n",
    "OUTPUT_FILE1_NAME=\"leaf_subset1.csv\"\n",
    "OUTPUT_FILE2_NAME=\"leaf_subset2.csv\""
   ]
  },
  {
   "cell_type": "code",
   "execution_count": 515,
   "id": "8b1ccd14-e8b6-4671-ad80-436d199710c9",
   "metadata": {},
   "outputs": [
    {
     "data": {
      "text/plain": [
       "'C:/Araf/Machine_Learning/Course-3/Images/project_images/images'"
      ]
     },
     "execution_count": 515,
     "metadata": {},
     "output_type": "execute_result"
    }
   ],
   "source": [
    "BASE_DIR"
   ]
  },
  {
   "cell_type": "code",
   "execution_count": 516,
   "id": "378b9f38-1b86-462c-9c36-f87086c6d526",
   "metadata": {},
   "outputs": [
    {
     "name": "stdout",
     "output_type": "stream",
     "text": [
      "loading paths done, loaded 4236\n"
     ]
    }
   ],
   "source": [
    "image_paths = []\n",
    "for plant in os.listdir(BASE_DIR):\n",
    "    for plant_type in os.listdir(f\"{BASE_DIR}/{plant}\"):\n",
    "        for plant_image in os.listdir(f\"{BASE_DIR}/{plant}/{plant_type}\"):\n",
    "            image_paths.append(f\"{BASE_DIR}/{plant}/{plant_type}/{plant_image}\")\n",
    "            \n",
    "print(\"loading paths done, loaded\", len(image_paths))"
   ]
  },
  {
   "cell_type": "code",
   "execution_count": 517,
   "id": "bf5c9de4-4178-4a91-8198-6da9813a774c",
   "metadata": {},
   "outputs": [],
   "source": [
    "datastr=\"\"\n",
    "tokens=[]\n",
    "dataList=[]\n",
    "\n",
    "for i in image_paths:\n",
    "    tokens=i.split(\"/\")\n",
    "    tokenslen=len(tokens)\n",
    "    #print(i, \"belongs to:\", tokens[7], \" and is of type :\", tokens[8])\n",
    "    subdataList=[]\n",
    "    subdataList.append(i)\n",
    "    subdataList.append(tokens[(tokenslen-1)])\n",
    "    subdataList.append(tokens[(tokenslen-3)])\n",
    "    subdataList.append(tokens[(tokenslen-2)])\n",
    "    #datastr=\"['\"+i+\"','\"+tokens[7]+\"','\"+tokens[8]+\"']\"\n",
    "    dataList.append(subdataList)"
   ]
  },
  {
   "cell_type": "code",
   "execution_count": 518,
   "id": "cd5bf96d-6a3b-4650-bf34-5fee1b5a07fe",
   "metadata": {},
   "outputs": [],
   "source": [
    "dfLeaf = pd.DataFrame(dataList, columns=['filepath', 'filename','plant_type', 'leaf_label'])\n",
    "#dfLeaf.index.rename('slno')"
   ]
  },
  {
   "cell_type": "code",
   "execution_count": 519,
   "id": "34ea8664-9d57-4368-8963-196253121f7e",
   "metadata": {},
   "outputs": [
    {
     "name": "stdout",
     "output_type": "stream",
     "text": [
      "<class 'pandas.core.frame.DataFrame'>\n",
      "RangeIndex: 4236 entries, 0 to 4235\n",
      "Data columns (total 4 columns):\n",
      " #   Column      Non-Null Count  Dtype \n",
      "---  ------      --------------  ----- \n",
      " 0   filepath    4236 non-null   object\n",
      " 1   filename    4236 non-null   object\n",
      " 2   plant_type  4236 non-null   object\n",
      " 3   leaf_label  4236 non-null   object\n",
      "dtypes: object(4)\n",
      "memory usage: 132.5+ KB\n"
     ]
    }
   ],
   "source": [
    "dfLeaf.info()"
   ]
  },
  {
   "cell_type": "code",
   "execution_count": 520,
   "id": "c351175f-2bbd-4175-a06f-e34de1b03d63",
   "metadata": {},
   "outputs": [
    {
     "name": "stdout",
     "output_type": "stream",
     "text": [
      "original Leaf df size:  4236\n"
     ]
    }
   ],
   "source": [
    "print(\"original Leaf df size: \", dfLeaf.shape[0])"
   ]
  },
  {
   "cell_type": "code",
   "execution_count": 521,
   "id": "09c58fc9-4fa6-48a6-a0be-f884b0095010",
   "metadata": {},
   "outputs": [],
   "source": [
    "dfgroup=dfLeaf.groupby([\"plant_type\", \"leaf_label\"]).size().reset_index(name='leaf_count_by_type_and_Label')"
   ]
  },
  {
   "cell_type": "code",
   "execution_count": 522,
   "id": "18cbb7aa-f86a-4188-9658-7d8e5aa27c30",
   "metadata": {},
   "outputs": [],
   "source": [
    "dfgroup['leaf_count_by_type_and_Label_fraction']=dfgroup[['leaf_count_by_type_and_Label']]*fraction_val2\n",
    "dfgroup['leaf_count_by_type_and_Label_fraction']=dfgroup['leaf_count_by_type_and_Label_fraction'].astype(int)"
   ]
  },
  {
   "cell_type": "code",
   "execution_count": 523,
   "id": "b238f539-6a49-46dd-82dd-722544717e4c",
   "metadata": {},
   "outputs": [
    {
     "data": {
      "text/html": [
       "<div>\n",
       "<style scoped>\n",
       "    .dataframe tbody tr th:only-of-type {\n",
       "        vertical-align: middle;\n",
       "    }\n",
       "\n",
       "    .dataframe tbody tr th {\n",
       "        vertical-align: top;\n",
       "    }\n",
       "\n",
       "    .dataframe thead th {\n",
       "        text-align: right;\n",
       "    }\n",
       "</style>\n",
       "<table border=\"1\" class=\"dataframe\">\n",
       "  <thead>\n",
       "    <tr style=\"text-align: right;\">\n",
       "      <th></th>\n",
       "      <th>plant_type</th>\n",
       "      <th>leaf_label</th>\n",
       "      <th>leaf_count_by_type_and_Label</th>\n",
       "      <th>leaf_count_by_type_and_Label_fraction</th>\n",
       "    </tr>\n",
       "  </thead>\n",
       "  <tbody>\n",
       "    <tr>\n",
       "      <th>0</th>\n",
       "      <td>Alstonia_Scholaris_P2</td>\n",
       "      <td>diseased</td>\n",
       "      <td>254</td>\n",
       "      <td>76</td>\n",
       "    </tr>\n",
       "    <tr>\n",
       "      <th>1</th>\n",
       "      <td>Alstonia_Scholaris_P2</td>\n",
       "      <td>healthy</td>\n",
       "      <td>179</td>\n",
       "      <td>53</td>\n",
       "    </tr>\n",
       "  </tbody>\n",
       "</table>\n",
       "</div>"
      ],
      "text/plain": [
       "              plant_type leaf_label  leaf_count_by_type_and_Label  \\\n",
       "0  Alstonia_Scholaris_P2   diseased                           254   \n",
       "1  Alstonia_Scholaris_P2    healthy                           179   \n",
       "\n",
       "   leaf_count_by_type_and_Label_fraction  \n",
       "0                                     76  \n",
       "1                                     53  "
      ]
     },
     "execution_count": 523,
     "metadata": {},
     "output_type": "execute_result"
    }
   ],
   "source": [
    "dfgroup.head(2)"
   ]
  },
  {
   "cell_type": "code",
   "execution_count": 524,
   "id": "f5069d21-a53a-41b5-9323-9d3c5a8ed3f6",
   "metadata": {},
   "outputs": [],
   "source": [
    "dfgroup1=dfLeaf.groupby([\"plant_type\"]).size().reset_index(name='leaf_counts_by_type')"
   ]
  },
  {
   "cell_type": "code",
   "execution_count": 525,
   "id": "d1f4136e-2307-4098-80cb-056dd6e7f83b",
   "metadata": {},
   "outputs": [],
   "source": [
    "dfgroup1['leaf_counts_by_type_fraction']=dfgroup1[['leaf_counts_by_type']]*fraction_val1"
   ]
  },
  {
   "cell_type": "code",
   "execution_count": 531,
   "id": "5e304dd4-da39-4a03-91a1-69d1e1432511",
   "metadata": {},
   "outputs": [],
   "source": [
    "dfgroup1['leaf_counts_by_type_fraction']=dfgroup1['leaf_counts_by_type_fraction'].astype(int)"
   ]
  },
  {
   "cell_type": "code",
   "execution_count": 532,
   "id": "41caeca5-7858-49c9-a467-c998005a7eb8",
   "metadata": {},
   "outputs": [],
   "source": [
    "dfgroup3=pd.merge(dfgroup1, dfgroup, on='plant_type')"
   ]
  },
  {
   "cell_type": "code",
   "execution_count": 533,
   "id": "a8902f92-2502-45bc-80b8-38bef431a9b3",
   "metadata": {},
   "outputs": [
    {
     "data": {
      "text/html": [
       "<div>\n",
       "<style scoped>\n",
       "    .dataframe tbody tr th:only-of-type {\n",
       "        vertical-align: middle;\n",
       "    }\n",
       "\n",
       "    .dataframe tbody tr th {\n",
       "        vertical-align: top;\n",
       "    }\n",
       "\n",
       "    .dataframe thead th {\n",
       "        text-align: right;\n",
       "    }\n",
       "</style>\n",
       "<table border=\"1\" class=\"dataframe\">\n",
       "  <thead>\n",
       "    <tr style=\"text-align: right;\">\n",
       "      <th></th>\n",
       "      <th>plant_type</th>\n",
       "      <th>leaf_counts_by_type</th>\n",
       "      <th>leaf_counts_by_type_fraction</th>\n",
       "      <th>leaf_label</th>\n",
       "      <th>leaf_count_by_type_and_Label</th>\n",
       "      <th>leaf_count_by_type_and_Label_fraction</th>\n",
       "    </tr>\n",
       "  </thead>\n",
       "  <tbody>\n",
       "    <tr>\n",
       "      <th>0</th>\n",
       "      <td>Alstonia_Scholaris_P2</td>\n",
       "      <td>433</td>\n",
       "      <td>129</td>\n",
       "      <td>diseased</td>\n",
       "      <td>254</td>\n",
       "      <td>76</td>\n",
       "    </tr>\n",
       "    <tr>\n",
       "      <th>1</th>\n",
       "      <td>Alstonia_Scholaris_P2</td>\n",
       "      <td>433</td>\n",
       "      <td>129</td>\n",
       "      <td>healthy</td>\n",
       "      <td>179</td>\n",
       "      <td>53</td>\n",
       "    </tr>\n",
       "    <tr>\n",
       "      <th>2</th>\n",
       "      <td>Arjun_P1</td>\n",
       "      <td>452</td>\n",
       "      <td>135</td>\n",
       "      <td>diseased</td>\n",
       "      <td>232</td>\n",
       "      <td>69</td>\n",
       "    </tr>\n",
       "    <tr>\n",
       "      <th>3</th>\n",
       "      <td>Arjun_P1</td>\n",
       "      <td>452</td>\n",
       "      <td>135</td>\n",
       "      <td>healthy</td>\n",
       "      <td>220</td>\n",
       "      <td>66</td>\n",
       "    </tr>\n",
       "    <tr>\n",
       "      <th>4</th>\n",
       "      <td>Chinar_P11</td>\n",
       "      <td>223</td>\n",
       "      <td>66</td>\n",
       "      <td>diseased</td>\n",
       "      <td>120</td>\n",
       "      <td>36</td>\n",
       "    </tr>\n",
       "  </tbody>\n",
       "</table>\n",
       "</div>"
      ],
      "text/plain": [
       "              plant_type  leaf_counts_by_type  leaf_counts_by_type_fraction  \\\n",
       "0  Alstonia_Scholaris_P2                  433                           129   \n",
       "1  Alstonia_Scholaris_P2                  433                           129   \n",
       "2               Arjun_P1                  452                           135   \n",
       "3               Arjun_P1                  452                           135   \n",
       "4             Chinar_P11                  223                            66   \n",
       "\n",
       "  leaf_label  leaf_count_by_type_and_Label  \\\n",
       "0   diseased                           254   \n",
       "1    healthy                           179   \n",
       "2   diseased                           232   \n",
       "3    healthy                           220   \n",
       "4   diseased                           120   \n",
       "\n",
       "   leaf_count_by_type_and_Label_fraction  \n",
       "0                                     76  \n",
       "1                                     53  \n",
       "2                                     69  \n",
       "3                                     66  \n",
       "4                                     36  "
      ]
     },
     "execution_count": 533,
     "metadata": {},
     "output_type": "execute_result"
    }
   ],
   "source": [
    "dfgroup3.head()"
   ]
  },
  {
   "cell_type": "code",
   "execution_count": 534,
   "id": "657256e9-9c9b-42d3-b1e4-c6a6c7645003",
   "metadata": {},
   "outputs": [
    {
     "name": "stdout",
     "output_type": "stream",
     "text": [
      "Total # of leafs:  leaf_counts_by_type    4236.0\n",
      "dtype: float64 **** leaf_counts_by_type_fraction    1265.0\n",
      "dtype: float64   leaf_count_by_type_and_Label_fraction    1262\n",
      "dtype: int64\n"
     ]
    }
   ],
   "source": [
    "print(\"Total # of leafs: \", dfgroup3[['leaf_counts_by_type']].sum()/2, \"****\", (dfgroup3[['leaf_counts_by_type_fraction']].sum())/2, \" \", dfgroup3[['leaf_count_by_type_and_Label_fraction']].sum())"
   ]
  },
  {
   "cell_type": "code",
   "execution_count": 536,
   "id": "1a115713-b0b4-461c-910d-2728cc04e845",
   "metadata": {},
   "outputs": [],
   "source": [
    "for index, row in dfgroup3.iterrows():\n",
    "    v_leaf_counts_by_type_fraction=row['leaf_counts_by_type_fraction']\n",
    "    v_subsetcount=row['leaf_count_by_type_and_Label']\n",
    "    if (v_leaf_counts_by_type_fraction>v_subsetcount):\n",
    "        print( \"we need to do some adjustment for \", row)"
   ]
  },
  {
   "cell_type": "code",
   "execution_count": 537,
   "id": "b81225ea-4bb4-49ba-8a2d-0bc9e294ad36",
   "metadata": {},
   "outputs": [
    {
     "name": "stdout",
     "output_type": "stream",
     "text": [
      "total# of leafs:  leaf_counts_by_type    8472\n",
      "dtype: int64  and subset of leaf is  leaf_count_by_type_and_Label_fraction    1262\n",
      "dtype: int64\n"
     ]
    }
   ],
   "source": [
    "print(\"total# of leafs: \",dfgroup3[['leaf_counts_by_type']].sum(), \" and subset of leaf is \", dfgroup3[['leaf_count_by_type_and_Label_fraction']].sum())"
   ]
  },
  {
   "cell_type": "code",
   "execution_count": 538,
   "id": "8671d346-69e7-4750-bb72-bd14d69b5299",
   "metadata": {},
   "outputs": [],
   "source": [
    "#dfgroup"
   ]
  },
  {
   "cell_type": "code",
   "execution_count": 539,
   "id": "99b0e85a-c283-4897-ba3f-b9faf7cf0a80",
   "metadata": {},
   "outputs": [],
   "source": [
    "#Creating a subset of data by taking a fraction data based on leaf counts by Plant type and leaf label"
   ]
  },
  {
   "cell_type": "code",
   "execution_count": 463,
   "id": "f4718af0-e584-4936-9f86-44f654055b4e",
   "metadata": {},
   "outputs": [
    {
     "name": "stdout",
     "output_type": "stream",
     "text": [
      "Create a leaf data frame by taking a subset of records based on leaf_counts_by_type_fraction variable\n",
      "Total # of leafs to be used in this dataset is:  leaf_count_by_type_and_Label_fraction    415\n",
      "dtype: int64\n",
      "Creating a subdataset of size 25  leaf images for  Alstonia_Scholaris_P2  and leaf type  diseased :\n",
      "Creating a subdataset of size 17  leaf images for  Alstonia_Scholaris_P2  and leaf type  healthy :\n",
      "Creating a subdataset of size 23  leaf images for  Arjun_P1  and leaf type  diseased :\n",
      "Creating a subdataset of size 22  leaf images for  Arjun_P1  and leaf type  healthy :\n",
      "Creating a subdataset of size 12  leaf images for  Chinar_P11  and leaf type  diseased :\n",
      "Creating a subdataset of size 10  leaf images for  Chinar_P11  and leaf type  healthy :\n",
      "Creating a subdataset of size 14  leaf images for  Gauva_P3  and leaf type  diseased :\n",
      "Creating a subdataset of size 27  leaf images for  Gauva_P3  and leaf type  healthy :\n",
      "Creating a subdataset of size 34  leaf images for  Jamun_P5  and leaf type  diseased :\n",
      "Creating a subdataset of size 27  leaf images for  Jamun_P5  and leaf type  healthy :\n",
      "Creating a subdataset of size 12  leaf images for  Jatropha_P6  and leaf type  diseased :\n",
      "Creating a subdataset of size 13  leaf images for  Jatropha_P6  and leaf type  healthy :\n",
      "Creating a subdataset of size 7  leaf images for  Lemon_P10  and leaf type  diseased :\n",
      "Creating a subdataset of size 15  leaf images for  Lemon_P10  and leaf type  healthy :\n",
      "Creating a subdataset of size 26  leaf images for  Mango_P0  and leaf type  diseased :\n",
      "Creating a subdataset of size 17  leaf images for  Mango_P0  and leaf type  healthy :\n",
      "Creating a subdataset of size 27  leaf images for  Pomegranate_P9  and leaf type  diseased :\n",
      "Creating a subdataset of size 28  leaf images for  Pomegranate_P9  and leaf type  healthy :\n",
      "Creating a subdataset of size 27  leaf images for  Pongamia_Pinnata_P7  and leaf type  diseased :\n",
      "Creating a subdataset of size 32  leaf images for  Pongamia_Pinnata_P7  and leaf type  healthy :\n"
     ]
    }
   ],
   "source": [
    "image_subset_paths = []\n",
    "imageList1=[]\n",
    "\n",
    "print(\"Create a leaf data frame by taking a subset of records based on leaf_counts_by_type_fraction variable\")\n",
    "totalleafcount=dfgroup3[['leaf_count_by_type_and_Label_fraction']].sum()\n",
    "print(\"Total # of leafs to be used in this dataset is: \",totalleafcount)\n",
    "for index, row in dfgroup3.iterrows():\n",
    "    #print(\"For the plant: \", row['plant_type'], \" and Leaf Type as: \", row['leaf_label'], \" the #sample leafs to be taken is: \", row['subsetcount'] )\n",
    "    plant_type=row['plant_type']\n",
    "    leaf_label=row['leaf_label']\n",
    "    sample_leaf_count=row['leaf_count_by_type_and_Label_fraction'] \n",
    "    leaf_image_list=os.listdir(f\"{BASE_DIR}/{plant_type}/{leaf_label}\")\n",
    "    i=0\n",
    "    print(\"Creating a subdataset of size\" , sample_leaf_count, \" leaf images for \", plant_type, \" and leaf type \", leaf_label, \":\")\n",
    "    while  i < sample_leaf_count:\n",
    "        subimageList=[]\n",
    "        #image_subset_paths.append(f\"{BASE_DIR}/{plant_type}/{leaf_label}/{leaf_image_list}\")\n",
    "        image_path=f\"{BASE_DIR}/{plant_type}/{leaf_label}/\" + leaf_image_list[i]\n",
    "        subimageList.append(leaf_image_list[i])\n",
    "        subimageList.append(image_path)\n",
    "        subimageList.append(leaf_label)\n",
    "        imageList1.append(subimageList)\n",
    "        #print(\"\\tfor the image name \" ,leaf_image_list[i], \", the file path is \", image_path, \"and the Label is \", leaf_label)\n",
    "        i=i+1\n",
    "    "
   ]
  },
  {
   "cell_type": "code",
   "execution_count": 540,
   "id": "41bbfb4a-cfeb-405e-8823-74ceeff74d4e",
   "metadata": {},
   "outputs": [],
   "source": [
    "dfimagesubset=pd.DataFrame(imageList1, columns=['image_name','image_file_path', 'label'])"
   ]
  },
  {
   "cell_type": "code",
   "execution_count": 542,
   "id": "6ee56502-2b3b-432d-af79-117fad3de5a8",
   "metadata": {},
   "outputs": [],
   "source": [
    "csv_filepath=OUTPUT_BASE_DIR+\"/\"+OUTPUT_FILE1_NAME\n",
    "dfimagesubset.to_csv(csv_filepath, index_label ='slno')"
   ]
  },
  {
   "cell_type": "code",
   "execution_count": 543,
   "id": "18102e3d-5fd3-4e5e-8b6b-fce68fb337e1",
   "metadata": {},
   "outputs": [],
   "source": [
    "df11=dfgroup3[['plant_type', 'leaf_counts_by_type_fraction']]"
   ]
  },
  {
   "cell_type": "code",
   "execution_count": 544,
   "id": "ba0d4e0c-f218-469c-a515-22044daa25a3",
   "metadata": {},
   "outputs": [
    {
     "data": {
      "text/html": [
       "<div>\n",
       "<style scoped>\n",
       "    .dataframe tbody tr th:only-of-type {\n",
       "        vertical-align: middle;\n",
       "    }\n",
       "\n",
       "    .dataframe tbody tr th {\n",
       "        vertical-align: top;\n",
       "    }\n",
       "\n",
       "    .dataframe thead th {\n",
       "        text-align: right;\n",
       "    }\n",
       "</style>\n",
       "<table border=\"1\" class=\"dataframe\">\n",
       "  <thead>\n",
       "    <tr style=\"text-align: right;\">\n",
       "      <th></th>\n",
       "      <th>plant_type</th>\n",
       "      <th>leaf_counts_by_type_fraction</th>\n",
       "    </tr>\n",
       "  </thead>\n",
       "  <tbody>\n",
       "    <tr>\n",
       "      <th>0</th>\n",
       "      <td>Alstonia_Scholaris_P2</td>\n",
       "      <td>129</td>\n",
       "    </tr>\n",
       "    <tr>\n",
       "      <th>1</th>\n",
       "      <td>Alstonia_Scholaris_P2</td>\n",
       "      <td>129</td>\n",
       "    </tr>\n",
       "    <tr>\n",
       "      <th>2</th>\n",
       "      <td>Arjun_P1</td>\n",
       "      <td>135</td>\n",
       "    </tr>\n",
       "    <tr>\n",
       "      <th>3</th>\n",
       "      <td>Arjun_P1</td>\n",
       "      <td>135</td>\n",
       "    </tr>\n",
       "    <tr>\n",
       "      <th>4</th>\n",
       "      <td>Chinar_P11</td>\n",
       "      <td>66</td>\n",
       "    </tr>\n",
       "    <tr>\n",
       "      <th>5</th>\n",
       "      <td>Chinar_P11</td>\n",
       "      <td>66</td>\n",
       "    </tr>\n",
       "    <tr>\n",
       "      <th>6</th>\n",
       "      <td>Gauva_P3</td>\n",
       "      <td>125</td>\n",
       "    </tr>\n",
       "    <tr>\n",
       "      <th>7</th>\n",
       "      <td>Gauva_P3</td>\n",
       "      <td>125</td>\n",
       "    </tr>\n",
       "    <tr>\n",
       "      <th>8</th>\n",
       "      <td>Jamun_P5</td>\n",
       "      <td>187</td>\n",
       "    </tr>\n",
       "    <tr>\n",
       "      <th>9</th>\n",
       "      <td>Jamun_P5</td>\n",
       "      <td>187</td>\n",
       "    </tr>\n",
       "    <tr>\n",
       "      <th>10</th>\n",
       "      <td>Jatropha_P6</td>\n",
       "      <td>77</td>\n",
       "    </tr>\n",
       "    <tr>\n",
       "      <th>11</th>\n",
       "      <td>Jatropha_P6</td>\n",
       "      <td>77</td>\n",
       "    </tr>\n",
       "    <tr>\n",
       "      <th>12</th>\n",
       "      <td>Lemon_P10</td>\n",
       "      <td>70</td>\n",
       "    </tr>\n",
       "    <tr>\n",
       "      <th>13</th>\n",
       "      <td>Lemon_P10</td>\n",
       "      <td>70</td>\n",
       "    </tr>\n",
       "    <tr>\n",
       "      <th>14</th>\n",
       "      <td>Mango_P0</td>\n",
       "      <td>130</td>\n",
       "    </tr>\n",
       "    <tr>\n",
       "      <th>15</th>\n",
       "      <td>Mango_P0</td>\n",
       "      <td>130</td>\n",
       "    </tr>\n",
       "    <tr>\n",
       "      <th>16</th>\n",
       "      <td>Pomegranate_P9</td>\n",
       "      <td>167</td>\n",
       "    </tr>\n",
       "    <tr>\n",
       "      <th>17</th>\n",
       "      <td>Pomegranate_P9</td>\n",
       "      <td>167</td>\n",
       "    </tr>\n",
       "    <tr>\n",
       "      <th>18</th>\n",
       "      <td>Pongamia_Pinnata_P7</td>\n",
       "      <td>179</td>\n",
       "    </tr>\n",
       "    <tr>\n",
       "      <th>19</th>\n",
       "      <td>Pongamia_Pinnata_P7</td>\n",
       "      <td>179</td>\n",
       "    </tr>\n",
       "  </tbody>\n",
       "</table>\n",
       "</div>"
      ],
      "text/plain": [
       "               plant_type  leaf_counts_by_type_fraction\n",
       "0   Alstonia_Scholaris_P2                           129\n",
       "1   Alstonia_Scholaris_P2                           129\n",
       "2                Arjun_P1                           135\n",
       "3                Arjun_P1                           135\n",
       "4              Chinar_P11                            66\n",
       "5              Chinar_P11                            66\n",
       "6                Gauva_P3                           125\n",
       "7                Gauva_P3                           125\n",
       "8                Jamun_P5                           187\n",
       "9                Jamun_P5                           187\n",
       "10            Jatropha_P6                            77\n",
       "11            Jatropha_P6                            77\n",
       "12              Lemon_P10                            70\n",
       "13              Lemon_P10                            70\n",
       "14               Mango_P0                           130\n",
       "15               Mango_P0                           130\n",
       "16         Pomegranate_P9                           167\n",
       "17         Pomegranate_P9                           167\n",
       "18    Pongamia_Pinnata_P7                           179\n",
       "19    Pongamia_Pinnata_P7                           179"
      ]
     },
     "execution_count": 544,
     "metadata": {},
     "output_type": "execute_result"
    }
   ],
   "source": [
    "df11"
   ]
  },
  {
   "cell_type": "code",
   "execution_count": 545,
   "id": "daa6a330-b105-42f1-b10b-77318e0f91f3",
   "metadata": {},
   "outputs": [],
   "source": [
    "df12=df11.drop_duplicates(subset = \"plant_type\").reset_index()"
   ]
  },
  {
   "cell_type": "code",
   "execution_count": 546,
   "id": "506a31f4-b617-4ecf-a12b-edd4ee9147ed",
   "metadata": {},
   "outputs": [
    {
     "data": {
      "text/html": [
       "<div>\n",
       "<style scoped>\n",
       "    .dataframe tbody tr th:only-of-type {\n",
       "        vertical-align: middle;\n",
       "    }\n",
       "\n",
       "    .dataframe tbody tr th {\n",
       "        vertical-align: top;\n",
       "    }\n",
       "\n",
       "    .dataframe thead th {\n",
       "        text-align: right;\n",
       "    }\n",
       "</style>\n",
       "<table border=\"1\" class=\"dataframe\">\n",
       "  <thead>\n",
       "    <tr style=\"text-align: right;\">\n",
       "      <th></th>\n",
       "      <th>index</th>\n",
       "      <th>plant_type</th>\n",
       "      <th>leaf_counts_by_type_fraction</th>\n",
       "    </tr>\n",
       "  </thead>\n",
       "  <tbody>\n",
       "    <tr>\n",
       "      <th>0</th>\n",
       "      <td>0</td>\n",
       "      <td>Alstonia_Scholaris_P2</td>\n",
       "      <td>129</td>\n",
       "    </tr>\n",
       "  </tbody>\n",
       "</table>\n",
       "</div>"
      ],
      "text/plain": [
       "   index             plant_type  leaf_counts_by_type_fraction\n",
       "0      0  Alstonia_Scholaris_P2                           129"
      ]
     },
     "execution_count": 546,
     "metadata": {},
     "output_type": "execute_result"
    }
   ],
   "source": [
    "df12.head(1)"
   ]
  },
  {
   "cell_type": "code",
   "execution_count": 547,
   "id": "7ba4ed9b-2738-4519-a867-c26a56c921f7",
   "metadata": {},
   "outputs": [],
   "source": [
    "#Creating a subset of data by taking a fraction data based on leaf counts by Plant type "
   ]
  },
  {
   "cell_type": "code",
   "execution_count": 548,
   "id": "7976332e-6045-468d-83a7-a0409e823d15",
   "metadata": {},
   "outputs": [],
   "source": [
    "imageList2=[]\n",
    "for index, row in df12.iterrows():\n",
    "    cntr=row['leaf_counts_by_type_fraction']/2\n",
    "    cntr=int(cntr)\n",
    "    plant_type=row['plant_type']\n",
    "    #leaf_label=row['leaf_label']\n",
    "    leaf_image_list1=os.listdir(f\"{BASE_DIR}/{plant_type}/diseased\")\n",
    "    i=0\n",
    "    j=0\n",
    "    #print(\" leaf images for \", plant_type, \" and leaf type as diseased\")\n",
    "    while  i < cntr:\n",
    "        subimageList=[]\n",
    "        #image_subset_paths.append(f\"{BASE_DIR}/{plant_type}/{leaf_label}/{leaf_image_list}\")\n",
    "        image_path=f\"{BASE_DIR}/{plant_type}/diseased/\" + leaf_image_list1[i]\n",
    "        subimageList.append(leaf_image_list1[i])\n",
    "        subimageList.append(image_path)\n",
    "        subimageList.append(\"diseased\")\n",
    "        imageList2.append(subimageList)\n",
    "        #print(\"\\tfor the image name \" ,leaf_image_list[i], \", the file path is \", image_path, \"and the Label is diseased\")\n",
    "        i=i+1\n",
    "    leaf_image_list2=os.listdir(f\"{BASE_DIR}/{plant_type}/healthy\")    \n",
    "    while  j < cntr:\n",
    "        subimageList=[]\n",
    "        #image_subset_paths.append(f\"{BASE_DIR}/{plant_type}/{leaf_label}/{leaf_image_list}\")\n",
    "        image_path=f\"{BASE_DIR}/{plant_type}/healthy/\" + leaf_image_list2[j]\n",
    "        subimageList.append(leaf_image_list1[j])\n",
    "        subimageList.append(image_path)\n",
    "        subimageList.append(\"healthy\")\n",
    "        imageList2.append(subimageList)\n",
    "        #print(\"\\tfor the image name \" ,leaf_image_list2[j], \", the file path is \", image_path, \"and the Label is healthy\")\n",
    "        j=j+1\n",
    "dfimagesubset2=pd.DataFrame(imageList2, columns=['image_name','image_file_path', 'label'])\n",
    "csv_filepath=OUTPUT_BASE_DIR+\"/\"+OUTPUT_FILE2_NAME\n",
    "dfimagesubset2.to_csv(csv_filepath, index_label ='slno')"
   ]
  },
  {
   "cell_type": "code",
   "execution_count": null,
   "id": "a7b758ad-8469-4295-b8b7-17f8b760ca3c",
   "metadata": {},
   "outputs": [],
   "source": []
  },
  {
   "cell_type": "code",
   "execution_count": null,
   "id": "26d6a5c8-9790-4ce4-823f-acdd2a707beb",
   "metadata": {},
   "outputs": [],
   "source": []
  }
 ],
 "metadata": {
  "kernelspec": {
   "display_name": "Python 3 (ipykernel)",
   "language": "python",
   "name": "python3"
  },
  "language_info": {
   "codemirror_mode": {
    "name": "ipython",
    "version": 3
   },
   "file_extension": ".py",
   "mimetype": "text/x-python",
   "name": "python",
   "nbconvert_exporter": "python",
   "pygments_lexer": "ipython3",
   "version": "3.12.4"
  }
 },
 "nbformat": 4,
 "nbformat_minor": 5
}
